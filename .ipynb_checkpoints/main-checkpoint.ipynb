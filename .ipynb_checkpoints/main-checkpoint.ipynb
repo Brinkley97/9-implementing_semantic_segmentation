{
 "cells": [
  {
   "cell_type": "markdown",
   "id": "2cc589f8",
   "metadata": {},
   "source": [
    "# 9 - \n",
    "\n",
    "- Goal: Learn how to perform SS on images and videos using OpenCV, deep learning, and the ENet architecture\n",
    "- Efficient Neural Network (ENet)\n",
    "    - Can perform real-time, pixel-wise SS\n",
    "    - Typically tested on CamVid, CityScapes,and SUN datasets\n",
    "    - Other models are U-Net, SegNet\n",
    "    "
   ]
  },
  {
   "cell_type": "markdown",
   "id": "412d8e8b",
   "metadata": {},
   "source": [
    "# Imports"
   ]
  },
  {
   "cell_type": "code",
   "execution_count": 5,
   "id": "dedffdfb",
   "metadata": {},
   "outputs": [],
   "source": [
    "import argparse\n",
    "import cv2\n",
    "import numpy as np\n",
    "import imutils\n",
    "import time"
   ]
  },
  {
   "cell_type": "code",
   "execution_count": 6,
   "id": "f598a5c0",
   "metadata": {},
   "outputs": [],
   "source": [
    "path_to_file = \"/Users/brinkley97/Documents/development/catalyst_robotics/all_zip_files/rural_off_road/rural_inputs\"\n",
    "name_of_files = \"1.jpg\"\n",
    "file = path_to_file + name_of_files"
   ]
  },
  {
   "cell_type": "code",
   "execution_count": 13,
   "id": "c448b40e",
   "metadata": {},
   "outputs": [],
   "source": [
    "# start = time.time()\n",
    "# SET_WIDTH = int(600)\n",
    "\n",
    "# normalize_image = 1 / 255.0\n",
    "# resize_image_shape = (1024, 512)\n",
    "\n",
    "# sample_img = cv2.imread(file)\n",
    "# sample_img = imutils.resize(sample_img, width=SET_WIDTH)\n",
    "\n",
    "# blob_img = cv2.dnn.blobFromImage(sample_img, normalize_image, resize_image_shape, 0,swapRB=True, crop=False)"
   ]
  },
  {
   "cell_type": "code",
   "execution_count": 12,
   "id": "ec9baab5",
   "metadata": {},
   "outputs": [],
   "source": [
    "# cv_enet_model = cv2.dnn.readNet('./enet-cityscapes/enet-model.net')"
   ]
  },
  {
   "cell_type": "code",
   "execution_count": null,
   "id": "557e937b",
   "metadata": {},
   "outputs": [],
   "source": []
  }
 ],
 "metadata": {
  "kernelspec": {
   "display_name": "Python 3 (ipykernel)",
   "language": "python",
   "name": "python3"
  },
  "language_info": {
   "codemirror_mode": {
    "name": "ipython",
    "version": 3
   },
   "file_extension": ".py",
   "mimetype": "text/x-python",
   "name": "python",
   "nbconvert_exporter": "python",
   "pygments_lexer": "ipython3",
   "version": "3.9.13"
  }
 },
 "nbformat": 4,
 "nbformat_minor": 5
}
